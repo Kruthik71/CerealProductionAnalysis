{
 "cells": [
  {
   "attachments": {},
   "cell_type": "markdown",
   "metadata": {},
   "source": [
    "## Rice Production Analysis"
   ]
  },
  {
   "attachments": {},
   "cell_type": "markdown",
   "metadata": {},
   "source": [
    "In the Wold indonetia has the 3rd highest rank in production of rice.In that data i can analyse to predict the what is the gross production of rice in prticuler or indivisul farm."
   ]
  },
  {
   "attachments": {},
   "cell_type": "markdown",
   "metadata": {},
   "source": [
    "### Feature information"
   ]
  },
  {
   "cell_type": "code",
   "execution_count": null,
   "metadata": {},
   "outputs": [],
   "source": []
  },
  {
   "attachments": {},
   "cell_type": "markdown",
   "metadata": {},
   "source": [
    "Id\t\t\t    : the farm identifier.\n",
    "Size_hector\t\t:the total area cultivated with rice, measured in hector.\n",
    "Status_land\t\t:land status, on of ‘owner’ (non-sharecroppers, owner operators or leaseholders or both), ‘share’\n",
    "                  (sharecroppers), ‘mixed’, (mixed of the two previous status).\n",
    "Varieties\t\t:one of ‘trad’ (traditional varieties), ‘high’ (high yielding varieties) and ‘mixed’  (mixed varieties).\n",
    "Bimas\t\t    :bimas is an intensification program; one of ‘no’ (non-bimas farmer), ‘yes’ (bimas farmer) or ‘mixed’ (part but                   not all of farmer’s land was registered to be in the bimas program).\n",
    "Seed\t\t\t:seed in kilogram.\n",
    "Urea\t\t\t:urea in kilogram.\n",
    "Phosphate\t\t:phosphate in kilogram pesticide.\n",
    "Pesticide\t\t:cost in Rupiah.\n",
    "Pseed\t\t\t: cost in Rupiah per kg.\n",
    "Purea\t\t\t: price of urea in Rupiah per kg.\n",
    "Pphosph\t\t    : price of phosphate in Rupiah per kg.\n",
    "Hiredlabor\t\t: hired labor in hours.\n",
    "Famlabor\t\t: family labor in hours total labor (excluding harvest labor).\n",
    "Wage\t\t\t: labor wage in Rupiah per hour.\n",
    "Goutput\t\t     : gross output of rice in kg.\n",
    "Noutput\t\t     :net output, gross output minus harvesting cost (paid in terms of rice).\n",
    "Price\t\t\t: price of rough rice in Rupiah per kg.\n",
    "Region\t        :one of ‘wargabinangun’, ‘langan’, ‘gunungwangi’, ‘malausma’, ‘sukaambit’, ‘firangi’.\n"
   ]
  },
  {
   "cell_type": "code",
   "execution_count": 3,
   "metadata": {},
   "outputs": [
    {
     "name": "stderr",
     "output_type": "stream",
     "text": [
      "C:\\Users\\Sai\\anaconda3\\lib\\site-packages\\pandas\\core\\computation\\expressions.py:20: UserWarning: Pandas requires version '2.7.3' or newer of 'numexpr' (version '2.7.1' currently installed).\n",
      "  from pandas.core.computation.check import NUMEXPR_INSTALLED\n"
     ]
    }
   ],
   "source": [
    "import pandas as pd\n",
    "import matplotlib.pyplot as plt\n",
    "import numpy as np\n",
    "import seaborn as sns\n",
    "import os"
   ]
  },
  {
   "cell_type": "code",
   "execution_count": 64,
   "metadata": {},
   "outputs": [
    {
     "name": "stdout",
     "output_type": "stream",
     "text": [
      "Requirement already satisfied: pyforest in c:\\users\\sai\\anaconda3\\lib\\site-packages (1.1.0)\n",
      "Note: you may need to restart the kernel to use updated packages.\n"
     ]
    }
   ],
   "source": [
    "pip install pyforest"
   ]
  },
  {
   "cell_type": "code",
   "execution_count": 1,
   "metadata": {},
   "outputs": [
    {
     "name": "stderr",
     "output_type": "stream",
     "text": [
      "C:\\Users\\Sai\\anaconda3\\lib\\site-packages\\pandas\\core\\computation\\expressions.py:20: UserWarning: Pandas requires version '2.7.3' or newer of 'numexpr' (version '2.7.1' currently installed).\n",
      "  from pandas.core.computation.check import NUMEXPR_INSTALLED\n"
     ]
    },
    {
     "data": {
      "application/javascript": "\n        if (window._pyforest_update_imports_cell) { window._pyforest_update_imports_cell('import pandas as pd'); }\n    ",
      "text/plain": [
       "<IPython.core.display.Javascript object>"
      ]
     },
     "metadata": {},
     "output_type": "display_data"
    }
   ],
   "source": [
    "data=pd.read_csv('farm_rice.csv')"
   ]
  },
  {
   "cell_type": "code",
   "execution_count": 2,
   "metadata": {},
   "outputs": [
    {
     "data": {
      "text/html": [
       "<div>\n",
       "<style scoped>\n",
       "    .dataframe tbody tr th:only-of-type {\n",
       "        vertical-align: middle;\n",
       "    }\n",
       "\n",
       "    .dataframe tbody tr th {\n",
       "        vertical-align: top;\n",
       "    }\n",
       "\n",
       "    .dataframe thead th {\n",
       "        text-align: right;\n",
       "    }\n",
       "</style>\n",
       "<table border=\"1\" class=\"dataframe\">\n",
       "  <thead>\n",
       "    <tr style=\"text-align: right;\">\n",
       "      <th></th>\n",
       "      <th>id</th>\n",
       "      <th>size_hector</th>\n",
       "      <th>status_land</th>\n",
       "      <th>varieties</th>\n",
       "      <th>bimas</th>\n",
       "      <th>seed_kg</th>\n",
       "      <th>urea_kg</th>\n",
       "      <th>phosphate_kg</th>\n",
       "      <th>pesticide_rs</th>\n",
       "      <th>price_seed_rs/kg</th>\n",
       "      <th>price_urea</th>\n",
       "      <th>price_phosphate</th>\n",
       "      <th>working_labor</th>\n",
       "      <th>working_family_labor</th>\n",
       "      <th>Total_working_labor_hrs</th>\n",
       "      <th>wage /hrs</th>\n",
       "      <th>Gross _output_kg</th>\n",
       "      <th>net _output</th>\n",
       "      <th>price/kg</th>\n",
       "      <th>region</th>\n",
       "    </tr>\n",
       "  </thead>\n",
       "  <tbody>\n",
       "    <tr>\n",
       "      <th>0</th>\n",
       "      <td>101001</td>\n",
       "      <td>3.000</td>\n",
       "      <td>owner</td>\n",
       "      <td>mixed</td>\n",
       "      <td>mixed</td>\n",
       "      <td>90</td>\n",
       "      <td>900</td>\n",
       "      <td>80</td>\n",
       "      <td>6000</td>\n",
       "      <td>80.0</td>\n",
       "      <td>75.0</td>\n",
       "      <td>75.0</td>\n",
       "      <td>2875</td>\n",
       "      <td>40</td>\n",
       "      <td>2915</td>\n",
       "      <td>68.49</td>\n",
       "      <td>7980</td>\n",
       "      <td>6800</td>\n",
       "      <td>60.0</td>\n",
       "      <td>wargabinangun</td>\n",
       "    </tr>\n",
       "    <tr>\n",
       "      <th>1</th>\n",
       "      <td>101001</td>\n",
       "      <td>2.000</td>\n",
       "      <td>owner</td>\n",
       "      <td>trad</td>\n",
       "      <td>mixed</td>\n",
       "      <td>40</td>\n",
       "      <td>600</td>\n",
       "      <td>0</td>\n",
       "      <td>3000</td>\n",
       "      <td>70.0</td>\n",
       "      <td>75.0</td>\n",
       "      <td>75.0</td>\n",
       "      <td>2110</td>\n",
       "      <td>45</td>\n",
       "      <td>2155</td>\n",
       "      <td>60.09</td>\n",
       "      <td>4083</td>\n",
       "      <td>3500</td>\n",
       "      <td>60.0</td>\n",
       "      <td>wargabinangun</td>\n",
       "    </tr>\n",
       "    <tr>\n",
       "      <th>2</th>\n",
       "      <td>101001</td>\n",
       "      <td>1.000</td>\n",
       "      <td>owner</td>\n",
       "      <td>high</td>\n",
       "      <td>mixed</td>\n",
       "      <td>100</td>\n",
       "      <td>700</td>\n",
       "      <td>150</td>\n",
       "      <td>5000</td>\n",
       "      <td>140.0</td>\n",
       "      <td>70.0</td>\n",
       "      <td>70.0</td>\n",
       "      <td>980</td>\n",
       "      <td>95</td>\n",
       "      <td>1075</td>\n",
       "      <td>51.99</td>\n",
       "      <td>2650</td>\n",
       "      <td>2242</td>\n",
       "      <td>65.0</td>\n",
       "      <td>wargabinangun</td>\n",
       "    </tr>\n",
       "    <tr>\n",
       "      <th>3</th>\n",
       "      <td>101001</td>\n",
       "      <td>2.000</td>\n",
       "      <td>owner</td>\n",
       "      <td>high</td>\n",
       "      <td>mixed</td>\n",
       "      <td>60</td>\n",
       "      <td>600</td>\n",
       "      <td>100</td>\n",
       "      <td>5000</td>\n",
       "      <td>90.0</td>\n",
       "      <td>70.0</td>\n",
       "      <td>70.0</td>\n",
       "      <td>2081</td>\n",
       "      <td>10</td>\n",
       "      <td>2091</td>\n",
       "      <td>56.98</td>\n",
       "      <td>4500</td>\n",
       "      <td>3750</td>\n",
       "      <td>70.0</td>\n",
       "      <td>wargabinangun</td>\n",
       "    </tr>\n",
       "    <tr>\n",
       "      <th>4</th>\n",
       "      <td>101001</td>\n",
       "      <td>3.572</td>\n",
       "      <td>share</td>\n",
       "      <td>high</td>\n",
       "      <td>no</td>\n",
       "      <td>105</td>\n",
       "      <td>400</td>\n",
       "      <td>400</td>\n",
       "      <td>10200</td>\n",
       "      <td>350.0</td>\n",
       "      <td>80.0</td>\n",
       "      <td>80.0</td>\n",
       "      <td>3889</td>\n",
       "      <td>1</td>\n",
       "      <td>3889</td>\n",
       "      <td>152.03</td>\n",
       "      <td>16300</td>\n",
       "      <td>13584</td>\n",
       "      <td>120.0</td>\n",
       "      <td>wargabinangun</td>\n",
       "    </tr>\n",
       "  </tbody>\n",
       "</table>\n",
       "</div>"
      ],
      "text/plain": [
       "       id  size_hector status_land varieties  bimas  seed_kg  urea_kg  \\\n",
       "0  101001        3.000       owner     mixed  mixed       90      900   \n",
       "1  101001        2.000       owner      trad  mixed       40      600   \n",
       "2  101001        1.000       owner      high  mixed      100      700   \n",
       "3  101001        2.000       owner      high  mixed       60      600   \n",
       "4  101001        3.572       share      high     no      105      400   \n",
       "\n",
       "   phosphate_kg  pesticide_rs  price_seed_rs/kg  price_urea  price_phosphate  \\\n",
       "0            80          6000              80.0        75.0             75.0   \n",
       "1             0          3000              70.0        75.0             75.0   \n",
       "2           150          5000             140.0        70.0             70.0   \n",
       "3           100          5000              90.0        70.0             70.0   \n",
       "4           400         10200             350.0        80.0             80.0   \n",
       "\n",
       "   working_labor  working_family_labor  Total_working_labor_hrs  wage /hrs  \\\n",
       "0           2875                    40                     2915      68.49   \n",
       "1           2110                    45                     2155      60.09   \n",
       "2            980                    95                     1075      51.99   \n",
       "3           2081                    10                     2091      56.98   \n",
       "4           3889                     1                     3889     152.03   \n",
       "\n",
       "   Gross _output_kg  net _output  price/kg         region  \n",
       "0              7980         6800      60.0  wargabinangun  \n",
       "1              4083         3500      60.0  wargabinangun  \n",
       "2              2650         2242      65.0  wargabinangun  \n",
       "3              4500         3750      70.0  wargabinangun  \n",
       "4             16300        13584     120.0  wargabinangun  "
      ]
     },
     "execution_count": 2,
     "metadata": {},
     "output_type": "execute_result"
    }
   ],
   "source": [
    "data.head()"
   ]
  },
  {
   "cell_type": "code",
   "execution_count": 3,
   "metadata": {},
   "outputs": [
    {
     "name": "stdout",
     "output_type": "stream",
     "text": [
      "<class 'pandas.core.frame.DataFrame'>\n",
      "RangeIndex: 1026 entries, 0 to 1025\n",
      "Data columns (total 20 columns):\n",
      " #   Column                   Non-Null Count  Dtype  \n",
      "---  ------                   --------------  -----  \n",
      " 0   id                       1026 non-null   int64  \n",
      " 1   size_hector              1026 non-null   float64\n",
      " 2   status_land              1026 non-null   object \n",
      " 3   varieties                1026 non-null   object \n",
      " 4   bimas                    1026 non-null   object \n",
      " 5   seed_kg                  1026 non-null   int64  \n",
      " 6   urea_kg                  1026 non-null   int64  \n",
      " 7   phosphate_kg             1026 non-null   int64  \n",
      " 8   pesticide_rs             1026 non-null   int64  \n",
      " 9   price_seed_rs/kg         1026 non-null   float64\n",
      " 10  price_urea               1026 non-null   float64\n",
      " 11  price_phosphate          1026 non-null   float64\n",
      " 12  working_labor            1026 non-null   int64  \n",
      " 13  working_family_labor     1026 non-null   int64  \n",
      " 14  Total_working_labor_hrs  1026 non-null   int64  \n",
      " 15  wage /hrs                1026 non-null   float64\n",
      " 16  Gross _output_kg         1026 non-null   int64  \n",
      " 17  net _output              1026 non-null   int64  \n",
      " 18  price/kg                 1026 non-null   float64\n",
      " 19  region                   1026 non-null   object \n",
      "dtypes: float64(6), int64(10), object(4)\n",
      "memory usage: 160.4+ KB\n"
     ]
    }
   ],
   "source": [
    "data.info()"
   ]
  },
  {
   "cell_type": "code",
   "execution_count": 4,
   "metadata": {},
   "outputs": [
    {
     "data": {
      "text/plain": [
       "id                         0\n",
       "size_hector                0\n",
       "status_land                0\n",
       "varieties                  0\n",
       "bimas                      0\n",
       "seed_kg                    0\n",
       "urea_kg                    0\n",
       "phosphate_kg               0\n",
       "pesticide_rs               0\n",
       "price_seed_rs/kg           0\n",
       "price_urea                 0\n",
       "price_phosphate            0\n",
       "working_labor              0\n",
       "working_family_labor       0\n",
       "Total_working_labor_hrs    0\n",
       "wage /hrs                  0\n",
       "Gross _output_kg           0\n",
       "net _output                0\n",
       "price/kg                   0\n",
       "region                     0\n",
       "dtype: int64"
      ]
     },
     "execution_count": 4,
     "metadata": {},
     "output_type": "execute_result"
    }
   ],
   "source": [
    "data.isnull().sum()"
   ]
  },
  {
   "attachments": {},
   "cell_type": "markdown",
   "metadata": {},
   "source": [
    "#### Find Harvesting cost in terms of price in Kg"
   ]
  },
  {
   "cell_type": "code",
   "execution_count": 5,
   "metadata": {},
   "outputs": [],
   "source": [
    "data['Harve_cost_rice']=data['Gross _output_kg']-data['net _output']"
   ]
  },
  {
   "attachments": {},
   "cell_type": "markdown",
   "metadata": {},
   "source": [
    "#### droping the net_output column"
   ]
  },
  {
   "cell_type": "code",
   "execution_count": 6,
   "metadata": {},
   "outputs": [],
   "source": [
    "data.drop(columns=['net _output'],inplace=True)"
   ]
  },
  {
   "attachments": {},
   "cell_type": "markdown",
   "metadata": {},
   "source": [
    "#### Also drop not importat feature"
   ]
  },
  {
   "cell_type": "code",
   "execution_count": 7,
   "metadata": {},
   "outputs": [],
   "source": [
    "data.drop(columns=['id','bimas','working_labor','working_family_labor'],inplace=True)"
   ]
  },
  {
   "cell_type": "code",
   "execution_count": 8,
   "metadata": {},
   "outputs": [
    {
     "data": {
      "text/html": [
       "<div>\n",
       "<style scoped>\n",
       "    .dataframe tbody tr th:only-of-type {\n",
       "        vertical-align: middle;\n",
       "    }\n",
       "\n",
       "    .dataframe tbody tr th {\n",
       "        vertical-align: top;\n",
       "    }\n",
       "\n",
       "    .dataframe thead th {\n",
       "        text-align: right;\n",
       "    }\n",
       "</style>\n",
       "<table border=\"1\" class=\"dataframe\">\n",
       "  <thead>\n",
       "    <tr style=\"text-align: right;\">\n",
       "      <th></th>\n",
       "      <th>size_hector</th>\n",
       "      <th>status_land</th>\n",
       "      <th>varieties</th>\n",
       "      <th>seed_kg</th>\n",
       "      <th>urea_kg</th>\n",
       "      <th>phosphate_kg</th>\n",
       "      <th>pesticide_rs</th>\n",
       "      <th>price_seed_rs/kg</th>\n",
       "      <th>price_urea</th>\n",
       "      <th>price_phosphate</th>\n",
       "      <th>Total_working_labor_hrs</th>\n",
       "      <th>wage /hrs</th>\n",
       "      <th>Gross _output_kg</th>\n",
       "      <th>price/kg</th>\n",
       "      <th>region</th>\n",
       "      <th>Harve_cost_rice</th>\n",
       "    </tr>\n",
       "  </thead>\n",
       "  <tbody>\n",
       "    <tr>\n",
       "      <th>0</th>\n",
       "      <td>3.000</td>\n",
       "      <td>owner</td>\n",
       "      <td>mixed</td>\n",
       "      <td>90</td>\n",
       "      <td>900</td>\n",
       "      <td>80</td>\n",
       "      <td>6000</td>\n",
       "      <td>80.0</td>\n",
       "      <td>75.0</td>\n",
       "      <td>75.0</td>\n",
       "      <td>2915</td>\n",
       "      <td>68.49</td>\n",
       "      <td>7980</td>\n",
       "      <td>60.0</td>\n",
       "      <td>wargabinangun</td>\n",
       "      <td>1180</td>\n",
       "    </tr>\n",
       "    <tr>\n",
       "      <th>1</th>\n",
       "      <td>2.000</td>\n",
       "      <td>owner</td>\n",
       "      <td>trad</td>\n",
       "      <td>40</td>\n",
       "      <td>600</td>\n",
       "      <td>0</td>\n",
       "      <td>3000</td>\n",
       "      <td>70.0</td>\n",
       "      <td>75.0</td>\n",
       "      <td>75.0</td>\n",
       "      <td>2155</td>\n",
       "      <td>60.09</td>\n",
       "      <td>4083</td>\n",
       "      <td>60.0</td>\n",
       "      <td>wargabinangun</td>\n",
       "      <td>583</td>\n",
       "    </tr>\n",
       "    <tr>\n",
       "      <th>2</th>\n",
       "      <td>1.000</td>\n",
       "      <td>owner</td>\n",
       "      <td>high</td>\n",
       "      <td>100</td>\n",
       "      <td>700</td>\n",
       "      <td>150</td>\n",
       "      <td>5000</td>\n",
       "      <td>140.0</td>\n",
       "      <td>70.0</td>\n",
       "      <td>70.0</td>\n",
       "      <td>1075</td>\n",
       "      <td>51.99</td>\n",
       "      <td>2650</td>\n",
       "      <td>65.0</td>\n",
       "      <td>wargabinangun</td>\n",
       "      <td>408</td>\n",
       "    </tr>\n",
       "    <tr>\n",
       "      <th>3</th>\n",
       "      <td>2.000</td>\n",
       "      <td>owner</td>\n",
       "      <td>high</td>\n",
       "      <td>60</td>\n",
       "      <td>600</td>\n",
       "      <td>100</td>\n",
       "      <td>5000</td>\n",
       "      <td>90.0</td>\n",
       "      <td>70.0</td>\n",
       "      <td>70.0</td>\n",
       "      <td>2091</td>\n",
       "      <td>56.98</td>\n",
       "      <td>4500</td>\n",
       "      <td>70.0</td>\n",
       "      <td>wargabinangun</td>\n",
       "      <td>750</td>\n",
       "    </tr>\n",
       "    <tr>\n",
       "      <th>4</th>\n",
       "      <td>3.572</td>\n",
       "      <td>share</td>\n",
       "      <td>high</td>\n",
       "      <td>105</td>\n",
       "      <td>400</td>\n",
       "      <td>400</td>\n",
       "      <td>10200</td>\n",
       "      <td>350.0</td>\n",
       "      <td>80.0</td>\n",
       "      <td>80.0</td>\n",
       "      <td>3889</td>\n",
       "      <td>152.03</td>\n",
       "      <td>16300</td>\n",
       "      <td>120.0</td>\n",
       "      <td>wargabinangun</td>\n",
       "      <td>2716</td>\n",
       "    </tr>\n",
       "  </tbody>\n",
       "</table>\n",
       "</div>"
      ],
      "text/plain": [
       "   size_hector status_land varieties  seed_kg  urea_kg  phosphate_kg  \\\n",
       "0        3.000       owner     mixed       90      900            80   \n",
       "1        2.000       owner      trad       40      600             0   \n",
       "2        1.000       owner      high      100      700           150   \n",
       "3        2.000       owner      high       60      600           100   \n",
       "4        3.572       share      high      105      400           400   \n",
       "\n",
       "   pesticide_rs  price_seed_rs/kg  price_urea  price_phosphate  \\\n",
       "0          6000              80.0        75.0             75.0   \n",
       "1          3000              70.0        75.0             75.0   \n",
       "2          5000             140.0        70.0             70.0   \n",
       "3          5000              90.0        70.0             70.0   \n",
       "4         10200             350.0        80.0             80.0   \n",
       "\n",
       "   Total_working_labor_hrs  wage /hrs  Gross _output_kg  price/kg  \\\n",
       "0                     2915      68.49              7980      60.0   \n",
       "1                     2155      60.09              4083      60.0   \n",
       "2                     1075      51.99              2650      65.0   \n",
       "3                     2091      56.98              4500      70.0   \n",
       "4                     3889     152.03             16300     120.0   \n",
       "\n",
       "          region  Harve_cost_rice  \n",
       "0  wargabinangun             1180  \n",
       "1  wargabinangun              583  \n",
       "2  wargabinangun              408  \n",
       "3  wargabinangun              750  \n",
       "4  wargabinangun             2716  "
      ]
     },
     "execution_count": 8,
     "metadata": {},
     "output_type": "execute_result"
    }
   ],
   "source": [
    "data.head()"
   ]
  },
  {
   "attachments": {},
   "cell_type": "markdown",
   "metadata": {},
   "source": [
    "### Lable Encoding in the data"
   ]
  },
  {
   "cell_type": "code",
   "execution_count": 9,
   "metadata": {},
   "outputs": [],
   "source": [
    "dect={}\n",
    "for i in list(data['region'].unique()):\n",
    "    dect[i]=list(data['region'].unique()).index(i)"
   ]
  },
  {
   "cell_type": "code",
   "execution_count": 10,
   "metadata": {},
   "outputs": [],
   "source": [
    "data['region']=data['region'].map(dect)"
   ]
  },
  {
   "cell_type": "code",
   "execution_count": 11,
   "metadata": {},
   "outputs": [],
   "source": [
    "from sklearn.preprocessing import LabelEncoder\n",
    "l1=LabelEncoder()\n",
    "data['status_land']=l1.fit_transform(data['status_land'])\n",
    "data['varieties']=l1.fit_transform(data['varieties'])"
   ]
  },
  {
   "cell_type": "code",
   "execution_count": 12,
   "metadata": {},
   "outputs": [
    {
     "data": {
      "text/html": [
       "<div>\n",
       "<style scoped>\n",
       "    .dataframe tbody tr th:only-of-type {\n",
       "        vertical-align: middle;\n",
       "    }\n",
       "\n",
       "    .dataframe tbody tr th {\n",
       "        vertical-align: top;\n",
       "    }\n",
       "\n",
       "    .dataframe thead th {\n",
       "        text-align: right;\n",
       "    }\n",
       "</style>\n",
       "<table border=\"1\" class=\"dataframe\">\n",
       "  <thead>\n",
       "    <tr style=\"text-align: right;\">\n",
       "      <th></th>\n",
       "      <th>size_hector</th>\n",
       "      <th>status_land</th>\n",
       "      <th>varieties</th>\n",
       "      <th>seed_kg</th>\n",
       "      <th>urea_kg</th>\n",
       "      <th>phosphate_kg</th>\n",
       "      <th>pesticide_rs</th>\n",
       "      <th>price_seed_rs/kg</th>\n",
       "      <th>price_urea</th>\n",
       "      <th>price_phosphate</th>\n",
       "      <th>Total_working_labor_hrs</th>\n",
       "      <th>wage /hrs</th>\n",
       "      <th>Gross _output_kg</th>\n",
       "      <th>price/kg</th>\n",
       "      <th>region</th>\n",
       "      <th>Harve_cost_rice</th>\n",
       "    </tr>\n",
       "  </thead>\n",
       "  <tbody>\n",
       "    <tr>\n",
       "      <th>0</th>\n",
       "      <td>3.000</td>\n",
       "      <td>1</td>\n",
       "      <td>1</td>\n",
       "      <td>90</td>\n",
       "      <td>900</td>\n",
       "      <td>80</td>\n",
       "      <td>6000</td>\n",
       "      <td>80.0</td>\n",
       "      <td>75.0</td>\n",
       "      <td>75.0</td>\n",
       "      <td>2915</td>\n",
       "      <td>68.49</td>\n",
       "      <td>7980</td>\n",
       "      <td>60.0</td>\n",
       "      <td>0</td>\n",
       "      <td>1180</td>\n",
       "    </tr>\n",
       "    <tr>\n",
       "      <th>1</th>\n",
       "      <td>2.000</td>\n",
       "      <td>1</td>\n",
       "      <td>2</td>\n",
       "      <td>40</td>\n",
       "      <td>600</td>\n",
       "      <td>0</td>\n",
       "      <td>3000</td>\n",
       "      <td>70.0</td>\n",
       "      <td>75.0</td>\n",
       "      <td>75.0</td>\n",
       "      <td>2155</td>\n",
       "      <td>60.09</td>\n",
       "      <td>4083</td>\n",
       "      <td>60.0</td>\n",
       "      <td>0</td>\n",
       "      <td>583</td>\n",
       "    </tr>\n",
       "    <tr>\n",
       "      <th>2</th>\n",
       "      <td>1.000</td>\n",
       "      <td>1</td>\n",
       "      <td>0</td>\n",
       "      <td>100</td>\n",
       "      <td>700</td>\n",
       "      <td>150</td>\n",
       "      <td>5000</td>\n",
       "      <td>140.0</td>\n",
       "      <td>70.0</td>\n",
       "      <td>70.0</td>\n",
       "      <td>1075</td>\n",
       "      <td>51.99</td>\n",
       "      <td>2650</td>\n",
       "      <td>65.0</td>\n",
       "      <td>0</td>\n",
       "      <td>408</td>\n",
       "    </tr>\n",
       "    <tr>\n",
       "      <th>3</th>\n",
       "      <td>2.000</td>\n",
       "      <td>1</td>\n",
       "      <td>0</td>\n",
       "      <td>60</td>\n",
       "      <td>600</td>\n",
       "      <td>100</td>\n",
       "      <td>5000</td>\n",
       "      <td>90.0</td>\n",
       "      <td>70.0</td>\n",
       "      <td>70.0</td>\n",
       "      <td>2091</td>\n",
       "      <td>56.98</td>\n",
       "      <td>4500</td>\n",
       "      <td>70.0</td>\n",
       "      <td>0</td>\n",
       "      <td>750</td>\n",
       "    </tr>\n",
       "    <tr>\n",
       "      <th>4</th>\n",
       "      <td>3.572</td>\n",
       "      <td>2</td>\n",
       "      <td>0</td>\n",
       "      <td>105</td>\n",
       "      <td>400</td>\n",
       "      <td>400</td>\n",
       "      <td>10200</td>\n",
       "      <td>350.0</td>\n",
       "      <td>80.0</td>\n",
       "      <td>80.0</td>\n",
       "      <td>3889</td>\n",
       "      <td>152.03</td>\n",
       "      <td>16300</td>\n",
       "      <td>120.0</td>\n",
       "      <td>0</td>\n",
       "      <td>2716</td>\n",
       "    </tr>\n",
       "  </tbody>\n",
       "</table>\n",
       "</div>"
      ],
      "text/plain": [
       "   size_hector  status_land  varieties  seed_kg  urea_kg  phosphate_kg  \\\n",
       "0        3.000            1          1       90      900            80   \n",
       "1        2.000            1          2       40      600             0   \n",
       "2        1.000            1          0      100      700           150   \n",
       "3        2.000            1          0       60      600           100   \n",
       "4        3.572            2          0      105      400           400   \n",
       "\n",
       "   pesticide_rs  price_seed_rs/kg  price_urea  price_phosphate  \\\n",
       "0          6000              80.0        75.0             75.0   \n",
       "1          3000              70.0        75.0             75.0   \n",
       "2          5000             140.0        70.0             70.0   \n",
       "3          5000              90.0        70.0             70.0   \n",
       "4         10200             350.0        80.0             80.0   \n",
       "\n",
       "   Total_working_labor_hrs  wage /hrs  Gross _output_kg  price/kg  region  \\\n",
       "0                     2915      68.49              7980      60.0       0   \n",
       "1                     2155      60.09              4083      60.0       0   \n",
       "2                     1075      51.99              2650      65.0       0   \n",
       "3                     2091      56.98              4500      70.0       0   \n",
       "4                     3889     152.03             16300     120.0       0   \n",
       "\n",
       "   Harve_cost_rice  \n",
       "0             1180  \n",
       "1              583  \n",
       "2              408  \n",
       "3              750  \n",
       "4             2716  "
      ]
     },
     "execution_count": 12,
     "metadata": {},
     "output_type": "execute_result"
    }
   ],
   "source": [
    "data.head()"
   ]
  },
  {
   "cell_type": "code",
   "execution_count": 13,
   "metadata": {},
   "outputs": [
    {
     "data": {
      "text/html": [
       "<div>\n",
       "<style scoped>\n",
       "    .dataframe tbody tr th:only-of-type {\n",
       "        vertical-align: middle;\n",
       "    }\n",
       "\n",
       "    .dataframe tbody tr th {\n",
       "        vertical-align: top;\n",
       "    }\n",
       "\n",
       "    .dataframe thead th {\n",
       "        text-align: right;\n",
       "    }\n",
       "</style>\n",
       "<table border=\"1\" class=\"dataframe\">\n",
       "  <thead>\n",
       "    <tr style=\"text-align: right;\">\n",
       "      <th></th>\n",
       "      <th>size_hector</th>\n",
       "      <th>status_land</th>\n",
       "      <th>varieties</th>\n",
       "      <th>seed_kg</th>\n",
       "      <th>urea_kg</th>\n",
       "      <th>phosphate_kg</th>\n",
       "      <th>pesticide_rs</th>\n",
       "      <th>price_seed_rs/kg</th>\n",
       "      <th>price_urea</th>\n",
       "      <th>price_phosphate</th>\n",
       "      <th>Total_working_labor_hrs</th>\n",
       "      <th>wage /hrs</th>\n",
       "      <th>Gross _output_kg</th>\n",
       "      <th>price/kg</th>\n",
       "      <th>region</th>\n",
       "      <th>Harve_cost_rice</th>\n",
       "    </tr>\n",
       "  </thead>\n",
       "  <tbody>\n",
       "    <tr>\n",
       "      <th>count</th>\n",
       "      <td>1026.000000</td>\n",
       "      <td>1026.000000</td>\n",
       "      <td>1026.000000</td>\n",
       "      <td>1026.000000</td>\n",
       "      <td>1026.000000</td>\n",
       "      <td>1026.000000</td>\n",
       "      <td>1026.000000</td>\n",
       "      <td>1026.000000</td>\n",
       "      <td>1026.000000</td>\n",
       "      <td>1026.000000</td>\n",
       "      <td>1026.000000</td>\n",
       "      <td>1026.000000</td>\n",
       "      <td>1026.000000</td>\n",
       "      <td>1026.000000</td>\n",
       "      <td>1026.000000</td>\n",
       "      <td>1026.000000</td>\n",
       "    </tr>\n",
       "    <tr>\n",
       "      <th>mean</th>\n",
       "      <td>0.431597</td>\n",
       "      <td>0.871345</td>\n",
       "      <td>1.378168</td>\n",
       "      <td>18.205653</td>\n",
       "      <td>95.440546</td>\n",
       "      <td>33.728070</td>\n",
       "      <td>595.004873</td>\n",
       "      <td>112.071598</td>\n",
       "      <td>78.979532</td>\n",
       "      <td>79.567739</td>\n",
       "      <td>388.447368</td>\n",
       "      <td>80.423275</td>\n",
       "      <td>1405.166667</td>\n",
       "      <td>90.961404</td>\n",
       "      <td>2.719298</td>\n",
       "      <td>164.246589</td>\n",
       "    </tr>\n",
       "    <tr>\n",
       "      <th>std</th>\n",
       "      <td>0.546780</td>\n",
       "      <td>0.516099</td>\n",
       "      <td>0.899469</td>\n",
       "      <td>45.250820</td>\n",
       "      <td>127.149226</td>\n",
       "      <td>47.588061</td>\n",
       "      <td>2927.580992</td>\n",
       "      <td>64.279795</td>\n",
       "      <td>8.674188</td>\n",
       "      <td>9.271885</td>\n",
       "      <td>484.203777</td>\n",
       "      <td>42.188804</td>\n",
       "      <td>1921.756965</td>\n",
       "      <td>37.495010</td>\n",
       "      <td>1.634732</td>\n",
       "      <td>295.607305</td>\n",
       "    </tr>\n",
       "    <tr>\n",
       "      <th>min</th>\n",
       "      <td>0.010000</td>\n",
       "      <td>0.000000</td>\n",
       "      <td>0.000000</td>\n",
       "      <td>1.000000</td>\n",
       "      <td>1.000000</td>\n",
       "      <td>0.000000</td>\n",
       "      <td>0.000000</td>\n",
       "      <td>40.000000</td>\n",
       "      <td>50.000000</td>\n",
       "      <td>60.000000</td>\n",
       "      <td>17.000000</td>\n",
       "      <td>30.000000</td>\n",
       "      <td>42.000000</td>\n",
       "      <td>50.000000</td>\n",
       "      <td>0.000000</td>\n",
       "      <td>-260.000000</td>\n",
       "    </tr>\n",
       "    <tr>\n",
       "      <th>25%</th>\n",
       "      <td>0.143000</td>\n",
       "      <td>1.000000</td>\n",
       "      <td>0.000000</td>\n",
       "      <td>5.000000</td>\n",
       "      <td>25.000000</td>\n",
       "      <td>8.000000</td>\n",
       "      <td>0.000000</td>\n",
       "      <td>70.000000</td>\n",
       "      <td>70.000000</td>\n",
       "      <td>70.000000</td>\n",
       "      <td>144.000000</td>\n",
       "      <td>49.375000</td>\n",
       "      <td>420.000000</td>\n",
       "      <td>60.500000</td>\n",
       "      <td>1.000000</td>\n",
       "      <td>31.250000</td>\n",
       "    </tr>\n",
       "    <tr>\n",
       "      <th>50%</th>\n",
       "      <td>0.286000</td>\n",
       "      <td>1.000000</td>\n",
       "      <td>2.000000</td>\n",
       "      <td>10.000000</td>\n",
       "      <td>60.000000</td>\n",
       "      <td>20.000000</td>\n",
       "      <td>0.000000</td>\n",
       "      <td>81.000000</td>\n",
       "      <td>80.000000</td>\n",
       "      <td>80.000000</td>\n",
       "      <td>252.000000</td>\n",
       "      <td>57.140000</td>\n",
       "      <td>886.500000</td>\n",
       "      <td>75.000000</td>\n",
       "      <td>3.000000</td>\n",
       "      <td>90.000000</td>\n",
       "    </tr>\n",
       "    <tr>\n",
       "      <th>75%</th>\n",
       "      <td>0.500000</td>\n",
       "      <td>1.000000</td>\n",
       "      <td>2.000000</td>\n",
       "      <td>20.000000</td>\n",
       "      <td>100.000000</td>\n",
       "      <td>50.000000</td>\n",
       "      <td>265.000000</td>\n",
       "      <td>150.000000</td>\n",
       "      <td>85.000000</td>\n",
       "      <td>85.000000</td>\n",
       "      <td>435.000000</td>\n",
       "      <td>128.750000</td>\n",
       "      <td>1606.000000</td>\n",
       "      <td>120.000000</td>\n",
       "      <td>4.000000</td>\n",
       "      <td>187.000000</td>\n",
       "    </tr>\n",
       "    <tr>\n",
       "      <th>max</th>\n",
       "      <td>5.322000</td>\n",
       "      <td>2.000000</td>\n",
       "      <td>2.000000</td>\n",
       "      <td>1250.000000</td>\n",
       "      <td>1250.000000</td>\n",
       "      <td>700.000000</td>\n",
       "      <td>62600.000000</td>\n",
       "      <td>375.000000</td>\n",
       "      <td>100.000000</td>\n",
       "      <td>120.000000</td>\n",
       "      <td>4774.000000</td>\n",
       "      <td>175.350000</td>\n",
       "      <td>20960.000000</td>\n",
       "      <td>190.000000</td>\n",
       "      <td>5.000000</td>\n",
       "      <td>3350.000000</td>\n",
       "    </tr>\n",
       "  </tbody>\n",
       "</table>\n",
       "</div>"
      ],
      "text/plain": [
       "       size_hector  status_land    varieties      seed_kg      urea_kg  \\\n",
       "count  1026.000000  1026.000000  1026.000000  1026.000000  1026.000000   \n",
       "mean      0.431597     0.871345     1.378168    18.205653    95.440546   \n",
       "std       0.546780     0.516099     0.899469    45.250820   127.149226   \n",
       "min       0.010000     0.000000     0.000000     1.000000     1.000000   \n",
       "25%       0.143000     1.000000     0.000000     5.000000    25.000000   \n",
       "50%       0.286000     1.000000     2.000000    10.000000    60.000000   \n",
       "75%       0.500000     1.000000     2.000000    20.000000   100.000000   \n",
       "max       5.322000     2.000000     2.000000  1250.000000  1250.000000   \n",
       "\n",
       "       phosphate_kg  pesticide_rs  price_seed_rs/kg   price_urea  \\\n",
       "count   1026.000000   1026.000000       1026.000000  1026.000000   \n",
       "mean      33.728070    595.004873        112.071598    78.979532   \n",
       "std       47.588061   2927.580992         64.279795     8.674188   \n",
       "min        0.000000      0.000000         40.000000    50.000000   \n",
       "25%        8.000000      0.000000         70.000000    70.000000   \n",
       "50%       20.000000      0.000000         81.000000    80.000000   \n",
       "75%       50.000000    265.000000        150.000000    85.000000   \n",
       "max      700.000000  62600.000000        375.000000   100.000000   \n",
       "\n",
       "       price_phosphate  Total_working_labor_hrs    wage /hrs  \\\n",
       "count      1026.000000              1026.000000  1026.000000   \n",
       "mean         79.567739               388.447368    80.423275   \n",
       "std           9.271885               484.203777    42.188804   \n",
       "min          60.000000                17.000000    30.000000   \n",
       "25%          70.000000               144.000000    49.375000   \n",
       "50%          80.000000               252.000000    57.140000   \n",
       "75%          85.000000               435.000000   128.750000   \n",
       "max         120.000000              4774.000000   175.350000   \n",
       "\n",
       "       Gross _output_kg     price/kg       region  Harve_cost_rice  \n",
       "count       1026.000000  1026.000000  1026.000000      1026.000000  \n",
       "mean        1405.166667    90.961404     2.719298       164.246589  \n",
       "std         1921.756965    37.495010     1.634732       295.607305  \n",
       "min           42.000000    50.000000     0.000000      -260.000000  \n",
       "25%          420.000000    60.500000     1.000000        31.250000  \n",
       "50%          886.500000    75.000000     3.000000        90.000000  \n",
       "75%         1606.000000   120.000000     4.000000       187.000000  \n",
       "max        20960.000000   190.000000     5.000000      3350.000000  "
      ]
     },
     "execution_count": 13,
     "metadata": {},
     "output_type": "execute_result"
    }
   ],
   "source": [
    "data.describe()"
   ]
  },
  {
   "cell_type": "code",
   "execution_count": 14,
   "metadata": {
    "scrolled": false
   },
   "outputs": [
    {
     "data": {
      "application/javascript": "\n        if (window._pyforest_update_imports_cell) { window._pyforest_update_imports_cell('import matplotlib.pyplot as plt\\nimport pandas as pd'); }\n    ",
      "text/plain": [
       "<IPython.core.display.Javascript object>"
      ]
     },
     "metadata": {},
     "output_type": "display_data"
    },
    {
     "data": {
      "application/javascript": "\n        if (window._pyforest_update_imports_cell) { window._pyforest_update_imports_cell('import seaborn as sns\\nimport matplotlib.pyplot as plt\\nimport pandas as pd'); }\n    ",
      "text/plain": [
       "<IPython.core.display.Javascript object>"
      ]
     },
     "metadata": {},
     "output_type": "display_data"
    },
    {
     "data": {
      "text/plain": [
       "<AxesSubplot:>"
      ]
     },
     "execution_count": 14,
     "metadata": {},
     "output_type": "execute_result"
    },
    {
     "data": {
      "image/png": "[encoded data removed]",
      "text/plain": [
       "<Figure size 1008x720 with 2 Axes>"
      ]
     },
     "metadata": {
      "needs_background": "light"
     },
     "output_type": "display_data"
    }
   ],
   "source": [
    "plt.figure(figsize=(14,10))\n",
    "sns.heatmap(data.corr(),annot=True,linewidths=0.1)"
   ]
  },
  {
   "attachments": {},
   "cell_type": "markdown",
   "metadata": {},
   "source": [
    "### Analysis of rice Production"
   ]
  },
  {
   "attachments": {},
   "cell_type": "markdown",
   "metadata": {},
   "source": [
    "#### Harvesting cost is independant in gross_output  so we delete that variable to predicting gross output"
   ]
  },
  {
   "cell_type": "code",
   "execution_count": 15,
   "metadata": {},
   "outputs": [],
   "source": [
    "data1=data.drop(columns=['Harve_cost_rice'])"
   ]
  },
  {
   "cell_type": "code",
   "execution_count": 16,
   "metadata": {},
   "outputs": [
    {
     "data": {
      "text/html": [
       "<div>\n",
       "<style scoped>\n",
       "    .dataframe tbody tr th:only-of-type {\n",
       "        vertical-align: middle;\n",
       "    }\n",
       "\n",
       "    .dataframe tbody tr th {\n",
       "        vertical-align: top;\n",
       "    }\n",
       "\n",
       "    .dataframe thead th {\n",
       "        text-align: right;\n",
       "    }\n",
       "</style>\n",
       "<table border=\"1\" class=\"dataframe\">\n",
       "  <thead>\n",
       "    <tr style=\"text-align: right;\">\n",
       "      <th></th>\n",
       "      <th>size_hector</th>\n",
       "      <th>status_land</th>\n",
       "      <th>varieties</th>\n",
       "      <th>seed_kg</th>\n",
       "      <th>urea_kg</th>\n",
       "      <th>phosphate_kg</th>\n",
       "      <th>pesticide_rs</th>\n",
       "      <th>price_seed_rs/kg</th>\n",
       "      <th>price_urea</th>\n",
       "      <th>price_phosphate</th>\n",
       "      <th>Total_working_labor_hrs</th>\n",
       "      <th>wage /hrs</th>\n",
       "      <th>Gross _output_kg</th>\n",
       "      <th>price/kg</th>\n",
       "      <th>region</th>\n",
       "    </tr>\n",
       "  </thead>\n",
       "  <tbody>\n",
       "    <tr>\n",
       "      <th>0</th>\n",
       "      <td>3.000</td>\n",
       "      <td>1</td>\n",
       "      <td>1</td>\n",
       "      <td>90</td>\n",
       "      <td>900</td>\n",
       "      <td>80</td>\n",
       "      <td>6000</td>\n",
       "      <td>80.0</td>\n",
       "      <td>75.0</td>\n",
       "      <td>75.0</td>\n",
       "      <td>2915</td>\n",
       "      <td>68.49</td>\n",
       "      <td>7980</td>\n",
       "      <td>60.0</td>\n",
       "      <td>0</td>\n",
       "    </tr>\n",
       "    <tr>\n",
       "      <th>1</th>\n",
       "      <td>2.000</td>\n",
       "      <td>1</td>\n",
       "      <td>2</td>\n",
       "      <td>40</td>\n",
       "      <td>600</td>\n",
       "      <td>0</td>\n",
       "      <td>3000</td>\n",
       "      <td>70.0</td>\n",
       "      <td>75.0</td>\n",
       "      <td>75.0</td>\n",
       "      <td>2155</td>\n",
       "      <td>60.09</td>\n",
       "      <td>4083</td>\n",
       "      <td>60.0</td>\n",
       "      <td>0</td>\n",
       "    </tr>\n",
       "    <tr>\n",
       "      <th>2</th>\n",
       "      <td>1.000</td>\n",
       "      <td>1</td>\n",
       "      <td>0</td>\n",
       "      <td>100</td>\n",
       "      <td>700</td>\n",
       "      <td>150</td>\n",
       "      <td>5000</td>\n",
       "      <td>140.0</td>\n",
       "      <td>70.0</td>\n",
       "      <td>70.0</td>\n",
       "      <td>1075</td>\n",
       "      <td>51.99</td>\n",
       "      <td>2650</td>\n",
       "      <td>65.0</td>\n",
       "      <td>0</td>\n",
       "    </tr>\n",
       "    <tr>\n",
       "      <th>3</th>\n",
       "      <td>2.000</td>\n",
       "      <td>1</td>\n",
       "      <td>0</td>\n",
       "      <td>60</td>\n",
       "      <td>600</td>\n",
       "      <td>100</td>\n",
       "      <td>5000</td>\n",
       "      <td>90.0</td>\n",
       "      <td>70.0</td>\n",
       "      <td>70.0</td>\n",
       "      <td>2091</td>\n",
       "      <td>56.98</td>\n",
       "      <td>4500</td>\n",
       "      <td>70.0</td>\n",
       "      <td>0</td>\n",
       "    </tr>\n",
       "    <tr>\n",
       "      <th>4</th>\n",
       "      <td>3.572</td>\n",
       "      <td>2</td>\n",
       "      <td>0</td>\n",
       "      <td>105</td>\n",
       "      <td>400</td>\n",
       "      <td>400</td>\n",
       "      <td>10200</td>\n",
       "      <td>350.0</td>\n",
       "      <td>80.0</td>\n",
       "      <td>80.0</td>\n",
       "      <td>3889</td>\n",
       "      <td>152.03</td>\n",
       "      <td>16300</td>\n",
       "      <td>120.0</td>\n",
       "      <td>0</td>\n",
       "    </tr>\n",
       "  </tbody>\n",
       "</table>\n",
       "</div>"
      ],
      "text/plain": [
       "   size_hector  status_land  varieties  seed_kg  urea_kg  phosphate_kg  \\\n",
       "0        3.000            1          1       90      900            80   \n",
       "1        2.000            1          2       40      600             0   \n",
       "2        1.000            1          0      100      700           150   \n",
       "3        2.000            1          0       60      600           100   \n",
       "4        3.572            2          0      105      400           400   \n",
       "\n",
       "   pesticide_rs  price_seed_rs/kg  price_urea  price_phosphate  \\\n",
       "0          6000              80.0        75.0             75.0   \n",
       "1          3000              70.0        75.0             75.0   \n",
       "2          5000             140.0        70.0             70.0   \n",
       "3          5000              90.0        70.0             70.0   \n",
       "4         10200             350.0        80.0             80.0   \n",
       "\n",
       "   Total_working_labor_hrs  wage /hrs  Gross _output_kg  price/kg  region  \n",
       "0                     2915      68.49              7980      60.0       0  \n",
       "1                     2155      60.09              4083      60.0       0  \n",
       "2                     1075      51.99              2650      65.0       0  \n",
       "3                     2091      56.98              4500      70.0       0  \n",
       "4                     3889     152.03             16300     120.0       0  "
      ]
     },
     "execution_count": 16,
     "metadata": {},
     "output_type": "execute_result"
    }
   ],
   "source": [
    "data1.head()"
   ]
  },
  {
   "attachments": {},
   "cell_type": "markdown",
   "metadata": {},
   "source": [
    "#### show the distribution of responce variable"
   ]
  },
  {
   "cell_type": "code",
   "execution_count": 17,
   "metadata": {
    "scrolled": true
   },
   "outputs": [
    {
     "data": {
      "application/javascript": "\n        if (window._pyforest_update_imports_cell) { window._pyforest_update_imports_cell('import seaborn as sns\\nimport matplotlib.pyplot as plt\\nimport pandas as pd'); }\n    ",
      "text/plain": [
       "<IPython.core.display.Javascript object>"
      ]
     },
     "metadata": {},
     "output_type": "display_data"
    },
    {
     "name": "stderr",
     "output_type": "stream",
     "text": [
      "C:\\Users\\Sai\\anaconda3\\lib\\site-packages\\seaborn\\distributions.py:2551: FutureWarning: `distplot` is a deprecated function and will be removed in a future version. Please adapt your code to use either `displot` (a figure-level function with similar flexibility) or `histplot` (an axes-level function for histograms).\n",
      "  warnings.warn(msg, FutureWarning)\n"
     ]
    },
    {
     "data": {
      "text/plain": [
       "<AxesSubplot:xlabel='Gross _output_kg', ylabel='Density'>"
      ]
     },
     "execution_count": 17,
     "metadata": {},
     "output_type": "execute_result"
    },
    {
     "data": {
      "image/png": "[encoded data removed]",
      "text/plain": [
       "<Figure size 432x288 with 1 Axes>"
      ]
     },
     "metadata": {
      "needs_background": "light"
     },
     "output_type": "display_data"
    }
   ],
   "source": [
    "sns.distplot(data1['Gross _output_kg'])"
   ]
  },
  {
   "attachments": {},
   "cell_type": "markdown",
   "metadata": {},
   "source": [
    "#### Taking log to convert normal distribution"
   ]
  },
  {
   "cell_type": "code",
   "execution_count": 18,
   "metadata": {
    "scrolled": true
   },
   "outputs": [
    {
     "data": {
      "application/javascript": "\n        if (window._pyforest_update_imports_cell) { window._pyforest_update_imports_cell('import seaborn as sns\\nimport matplotlib.pyplot as plt\\nimport pandas as pd'); }\n    ",
      "text/plain": [
       "<IPython.core.display.Javascript object>"
      ]
     },
     "metadata": {},
     "output_type": "display_data"
    },
    {
     "data": {
      "application/javascript": "\n        if (window._pyforest_update_imports_cell) { window._pyforest_update_imports_cell('import seaborn as sns\\nimport numpy as np\\nimport matplotlib.pyplot as plt\\nimport pandas as pd'); }\n    ",
      "text/plain": [
       "<IPython.core.display.Javascript object>"
      ]
     },
     "metadata": {},
     "output_type": "display_data"
    },
    {
     "name": "stderr",
     "output_type": "stream",
     "text": [
      "C:\\Users\\Sai\\anaconda3\\lib\\site-packages\\seaborn\\distributions.py:2551: FutureWarning: `distplot` is a deprecated function and will be removed in a future version. Please adapt your code to use either `displot` (a figure-level function with similar flexibility) or `histplot` (an axes-level function for histograms).\n",
      "  warnings.warn(msg, FutureWarning)\n"
     ]
    },
    {
     "data": {
      "text/plain": [
       "<AxesSubplot:xlabel='Gross _output_kg', ylabel='Density'>"
      ]
     },
     "execution_count": 18,
     "metadata": {},
     "output_type": "execute_result"
    },
    {
     "data": {
      "image/png": "[encoded data removed]",
      "text/plain": [
       "<Figure size 432x288 with 1 Axes>"
      ]
     },
     "metadata": {
      "needs_background": "light"
     },
     "output_type": "display_data"
    }
   ],
   "source": [
    "sns.distplot(np.log(data1['Gross _output_kg']))"
   ]
  },
  {
   "attachments": {},
   "cell_type": "markdown",
   "metadata": {},
   "source": [
    "#### Train Test spliting"
   ]
  },
  {
   "cell_type": "code",
   "execution_count": 19,
   "metadata": {},
   "outputs": [],
   "source": [
    "x=data1.iloc[:,:-3]\n",
    "y=data1.iloc[:,-3]"
   ]
  },
  {
   "cell_type": "code",
   "execution_count": 20,
   "metadata": {},
   "outputs": [],
   "source": [
    "from sklearn.model_selection import train_test_split\n",
    "x_train,x_test,y_train,y_test=train_test_split(x,y,test_size=0.2,random_state=0)"
   ]
  },
  {
   "attachments": {},
   "cell_type": "markdown",
   "metadata": {},
   "source": [
    "#### Feature selection"
   ]
  },
  {
   "cell_type": "code",
   "execution_count": 21,
   "metadata": {},
   "outputs": [],
   "source": [
    "from sklearn.feature_selection import mutual_info_regression\n",
    "mutual_info=mutual_info_regression(x_train,y_train)"
   ]
  },
  {
   "cell_type": "code",
   "execution_count": 22,
   "metadata": {},
   "outputs": [
    {
     "data": {
      "application/javascript": "\n        if (window._pyforest_update_imports_cell) { window._pyforest_update_imports_cell('import seaborn as sns\\nimport numpy as np\\nimport matplotlib.pyplot as plt\\nimport pandas as pd'); }\n    ",
      "text/plain": [
       "<IPython.core.display.Javascript object>"
      ]
     },
     "metadata": {},
     "output_type": "display_data"
    },
    {
     "data": {
      "text/plain": [
       "size_hector                0.931980\n",
       "seed_kg                    0.724964\n",
       "urea_kg                    0.704909\n",
       "Total_working_labor_hrs    0.671706\n",
       "phosphate_kg               0.440288\n",
       "pesticide_rs               0.134676\n",
       "varieties                  0.132673\n",
       "status_land                0.087837\n",
       "price_seed_rs/kg           0.062338\n",
       "price_phosphate            0.043927\n",
       "wage /hrs                  0.037736\n",
       "price_urea                 0.033882\n",
       "dtype: float64"
      ]
     },
     "execution_count": 22,
     "metadata": {},
     "output_type": "execute_result"
    }
   ],
   "source": [
    "mutual_info = pd.Series(mutual_info)\n",
    "mutual_info.index = x_train.columns\n",
    "mutual_info.sort_values(ascending=False)"
   ]
  },
  {
   "cell_type": "code",
   "execution_count": 23,
   "metadata": {},
   "outputs": [
    {
     "data": {
      "text/plain": [
       "<AxesSubplot:>"
      ]
     },
     "execution_count": 23,
     "metadata": {},
     "output_type": "execute_result"
    },
    {
     "data": {
      "image/png": "[encoded data removed]",
      "text/plain": [
       "<Figure size 1440x576 with 1 Axes>"
      ]
     },
     "metadata": {
      "needs_background": "light"
     },
     "output_type": "display_data"
    }
   ],
   "source": [
    "mutual_info.sort_values(ascending=False).plot.bar(figsize=(20, 8)) "
   ]
  },
  {
   "cell_type": "code",
   "execution_count": 90,
   "metadata": {},
   "outputs": [
    {
     "data": {
      "text/plain": [
       "Index(['size_hector', 'seed_kg', 'urea_kg', 'Total_working_labor_hrs',\n",
       "       'phosphate_kg', 'varieties', 'pesticide_rs', 'status_land',\n",
       "       'price_seed_rs/kg', 'price_phosphate', 'wage /hrs', 'price_urea'],\n",
       "      dtype='object')"
      ]
     },
     "execution_count": 90,
     "metadata": {},
     "output_type": "execute_result"
    }
   ],
   "source": [
    "mutual_info.sort_values(ascending=False).index"
   ]
  },
  {
   "attachments": {},
   "cell_type": "markdown",
   "metadata": {},
   "source": [
    "#### check those feature have the multicolinearity"
   ]
  },
  {
   "cell_type": "code",
   "execution_count": 91,
   "metadata": {},
   "outputs": [
    {
     "data": {
      "text/plain": [
       "{'Total_working_labor_hrs',\n",
       " 'phosphate_kg',\n",
       " 'price_phosphate',\n",
       " 'seed_kg',\n",
       " 'urea_kg',\n",
       " 'wage /hrs'}"
      ]
     },
     "execution_count": 91,
     "metadata": {},
     "output_type": "execute_result"
    }
   ],
   "source": [
    "def correlation(dataset, threshold):\n",
    "    col_corr = set()  # Set of all the names of correlated columns\n",
    "    corr_matrix = dataset.corr()\n",
    "    for i in range(len(corr_matrix.columns)):\n",
    "        for j in range(i):\n",
    "            if abs(corr_matrix.iloc[i, j]) > threshold: # we are interested in absolute coeff value\n",
    "                colname = corr_matrix.columns[i]  # getting the name of column\n",
    "                col_corr.add(colname)\n",
    "    return col_corr\n",
    "\n",
    "\n",
    "corr_features = correlation(x_train, 0.5)\n",
    "corr_features                  "
   ]
  },
  {
   "cell_type": "code",
   "execution_count": 92,
   "metadata": {},
   "outputs": [],
   "source": [
    "x0=data1[list(mutual_info.sort_values(ascending=False).head(7).index)]\n",
    "#x0=data1[['size_hector','varieties', 'pesticide_rs']]"
   ]
  },
  {
   "cell_type": "code",
   "execution_count": 98,
   "metadata": {},
   "outputs": [],
   "source": [
    "from sklearn.model_selection import train_test_split\n",
    "x1_train,x1_test,y1_train,y1_test=train_test_split(x0,y,test_size=0.2,random_state=0)"
   ]
  },
  {
   "cell_type": "code",
   "execution_count": 99,
   "metadata": {},
   "outputs": [],
   "source": [
    "from sklearn.metrics import r2_score\n",
    "from sklearn.linear_model import LinearRegression\n",
    "from sklearn import linear_model\n",
    "from sklearn.linear_model import Ridge\n",
    "from sklearn.svm import SVR\n",
    "from sklearn.tree import DecisionTreeRegressor\n",
    "from sklearn import neighbors\n",
    "from xgboost import XGBRegressor\n",
    "from sklearn.ensemble import AdaBoostRegressor \n",
    "from sklearn.ensemble import BaggingRegressor "
   ]
  },
  {
   "cell_type": "code",
   "execution_count": 78,
   "metadata": {},
   "outputs": [
    {
     "data": {
      "application/javascript": "\n        if (window._pyforest_update_imports_cell) { window._pyforest_update_imports_cell('import xgboost as xgb\\nimport seaborn as sns\\nimport pickle\\nimport matplotlib.pyplot as plt\\nimport numpy as np\\nimport pandas as pd'); }\n    ",
      "text/plain": [
       "<IPython.core.display.Javascript object>"
      ]
     },
     "metadata": {},
     "output_type": "display_data"
    }
   ],
   "source": [
    "reg1 = LinearRegression()\n",
    "lasso_reg = linear_model.Lasso(alpha=1, max_iter=100, tol=0.1)\n",
    "ridge_reg= Ridge(alpha=1, max_iter=500, tol=0.5)\n",
    "svr_rbf = SVR(kernel= 'linear')\n",
    "dt = DecisionTreeRegressor( ccp_alpha=0.001)\n",
    "model = neighbors.KNeighborsRegressor(n_neighbors = 5,metric='minkowski',p=1)\n",
    "xgb_model = xgb.XGBRegressor(base_score=0.5,objective=\"reg:squarederror\", random_state=100)\n"
   ]
  },
  {
   "cell_type": "code",
   "execution_count": 101,
   "metadata": {
    "scrolled": true
   },
   "outputs": [
    {
     "name": "stdout",
     "output_type": "stream",
     "text": [
      "output LinearRegression() is :  0.8766466522883594 0.8838435514023488\n",
      "output DecisionTreeRegressor(ccp_alpha=0.001) is :  0.3793637376778116 0.999902763074088\n",
      "output Lasso(alpha=1, max_iter=100, tol=0.1) is :  0.8589710725298962 0.8784330424013227\n",
      "output Ridge(alpha=1, max_iter=500, tol=0.5) is :  0.8760013954533453 0.883821402716902\n",
      "output KNeighborsRegressor(p=1) is :  0.7610357078929504 0.8386920658447994\n",
      "output XGBRegressor(base_score=0.5, booster='gbtree', callbacks=None,\n",
      "             colsample_bylevel=1, colsample_bynode=1, colsample_bytree=1,\n",
      "             early_stopping_rounds=None, enable_categorical=False,\n",
      "             eval_metric=None, gamma=0, gpu_id=-1, grow_policy='depthwise',\n",
      "             importance_type=None, interaction_constraints='',\n",
      "             learning_rate=0.300000012, max_bin=256, max_cat_to_onehot=4,\n",
      "             max_delta_step=0, max_depth=6, max_leaves=0, min_child_weight=1,\n",
      "             missing=nan, monotone_constraints='()', n_estimators=100, n_jobs=0,\n",
      "             num_parallel_tree=1, predictor='auto', random_state=100,\n",
      "             reg_alpha=0, reg_lambda=1, ...) is :  0.7885084259896988 0.9994244495693985\n"
     ]
    }
   ],
   "source": [
    "for clf in (reg1,dt,lasso_reg,ridge_reg,model,xgb_model):\n",
    "    clf.fit(x1_train,y1_train)\n",
    "    y_pred=clf.predict(x1_test)\n",
    "    yp_pred=clf.predict(x1_train)\n",
    "    print(f\"output {clf} is : \",r2_score(y1_test,y_pred),r2_score(y1_train,yp_pred))"
   ]
  },
  {
   "cell_type": "code",
   "execution_count": 103,
   "metadata": {},
   "outputs": [
    {
     "name": "stdout",
     "output_type": "stream",
     "text": [
      "[0.71901957 0.85579709 0.8732424  0.69148774 0.8523549  0.80204506\n",
      " 0.73082082 0.94280082 0.91347309 0.83304128 0.93776193 0.92256471\n",
      " 0.71372614 0.82039801 0.91019417 0.89469767]\n",
      "0.8383390885819223\n",
      "0.006759585857610346\n"
     ]
    },
    {
     "name": "stderr",
     "output_type": "stream",
     "text": [
      "C:\\Users\\Sai\\anaconda3\\lib\\site-packages\\sklearn\\model_selection\\_split.py:680: UserWarning: The least populated class in y has only 1 members, which is less than n_splits=16.\n",
      "  warnings.warn(\n"
     ]
    }
   ],
   "source": [
    "from sklearn.model_selection import StratifiedKFold\n",
    "   #mi he k-fold  logistic regression cha model vr vaprun bghitl\n",
    "strata_kfold=StratifiedKFold(n_splits=16,shuffle=True)    #dataset che 10 fold kele\n",
    "\n",
    "from sklearn.model_selection import cross_val_score\n",
    "results_s_kfold=cross_val_score(reg1,x1_train,y1_train,cv=strata_kfold)\n",
    "print(results_s_kfold)\n",
    "print(np.mean(results_s_kfold))\n",
    "print(np.var(results_s_kfold))    #check the variation of the data\n",
    "\n",
    "#r2.fit(x2_data,y2_data)\n",
    "#y_pred=r2.predict(x_test)   #model chi pn accuracy bghitly\n",
    "   "
   ]
  },
  {
   "cell_type": "code",
   "execution_count": 32,
   "metadata": {},
   "outputs": [],
   "source": [
    "import pickle"
   ]
  },
  {
   "cell_type": "code",
   "execution_count": 105,
   "metadata": {},
   "outputs": [
    {
     "data": {
      "application/javascript": "\n        if (window._pyforest_update_imports_cell) { window._pyforest_update_imports_cell('import xgboost as xgb\\nimport pickle'); }\n    ",
      "text/plain": [
       "<IPython.core.display.Javascript object>"
      ]
     },
     "metadata": {},
     "output_type": "display_data"
    }
   ],
   "source": [
    "pickle.dump(reg1,open('gross_output.pkl','wb'))"
   ]
  },
  {
   "attachments": {},
   "cell_type": "markdown",
   "metadata": {},
   "source": [
    "### Price Analysis"
   ]
  },
  {
   "cell_type": "code",
   "execution_count": 36,
   "metadata": {},
   "outputs": [
    {
     "data": {
      "application/javascript": "\n        if (window._pyforest_update_imports_cell) { window._pyforest_update_imports_cell('import seaborn as sns\\nimport matplotlib.pyplot as plt\\nimport numpy as np\\nimport pickle\\nimport pandas as pd'); }\n    ",
      "text/plain": [
       "<IPython.core.display.Javascript object>"
      ]
     },
     "metadata": {},
     "output_type": "display_data"
    },
    {
     "name": "stderr",
     "output_type": "stream",
     "text": [
      "C:\\Users\\Sai\\anaconda3\\lib\\site-packages\\seaborn\\distributions.py:2551: FutureWarning: `distplot` is a deprecated function and will be removed in a future version. Please adapt your code to use either `displot` (a figure-level function with similar flexibility) or `histplot` (an axes-level function for histograms).\n",
      "  warnings.warn(msg, FutureWarning)\n"
     ]
    },
    {
     "data": {
      "text/plain": [
       "<AxesSubplot:xlabel='price/kg', ylabel='Density'>"
      ]
     },
     "execution_count": 36,
     "metadata": {},
     "output_type": "execute_result"
    },
    {
     "data": {
      "image/png": "[encoded data removed]",
      "text/plain": [
       "<Figure size 432x288 with 1 Axes>"
      ]
     },
     "metadata": {
      "needs_background": "light"
     },
     "output_type": "display_data"
    }
   ],
   "source": [
    "sns.distplot(data1['price/kg'])"
   ]
  },
  {
   "cell_type": "code",
   "execution_count": 37,
   "metadata": {},
   "outputs": [],
   "source": [
    "x1=data1.iloc[:,:-2]\n",
    "y1=data1.iloc[:,-2]"
   ]
  },
  {
   "cell_type": "code",
   "execution_count": 38,
   "metadata": {},
   "outputs": [],
   "source": [
    "from sklearn.model_selection import train_test_split\n",
    "x11_train,x11_test,y11_train,y11_test=train_test_split(x1,y1,test_size=0.2,random_state=0)"
   ]
  },
  {
   "cell_type": "code",
   "execution_count": 39,
   "metadata": {},
   "outputs": [],
   "source": [
    "from sklearn.feature_selection import mutual_info_regression\n",
    "mutual_info1=mutual_info_regression(x11_train,y11_train)"
   ]
  },
  {
   "cell_type": "code",
   "execution_count": 40,
   "metadata": {},
   "outputs": [
    {
     "data": {
      "application/javascript": "\n        if (window._pyforest_update_imports_cell) { window._pyforest_update_imports_cell('import seaborn as sns\\nimport matplotlib.pyplot as plt\\nimport numpy as np\\nimport pickle\\nimport pandas as pd'); }\n    ",
      "text/plain": [
       "<IPython.core.display.Javascript object>"
      ]
     },
     "metadata": {},
     "output_type": "display_data"
    },
    {
     "data": {
      "text/plain": [
       "price_seed_rs/kg           0.814231\n",
       "wage /hrs                  0.751625\n",
       "price_urea                 0.603078\n",
       "price_phosphate            0.585392\n",
       "varieties                  0.172104\n",
       "phosphate_kg               0.146534\n",
       "Gross _output_kg           0.094957\n",
       "pesticide_rs               0.079115\n",
       "size_hector                0.046631\n",
       "Total_working_labor_hrs    0.044772\n",
       "status_land                0.043486\n",
       "seed_kg                    0.037402\n",
       "urea_kg                    0.017443\n",
       "dtype: float64"
      ]
     },
     "execution_count": 40,
     "metadata": {},
     "output_type": "execute_result"
    }
   ],
   "source": [
    "mutual_info1 = pd.Series(mutual_info1)\n",
    "mutual_info1.index = x11_train.columns\n",
    "mutual_info1.sort_values(ascending=False)"
   ]
  },
  {
   "cell_type": "code",
   "execution_count": 41,
   "metadata": {},
   "outputs": [
    {
     "data": {
      "text/plain": [
       "<AxesSubplot:>"
      ]
     },
     "execution_count": 41,
     "metadata": {},
     "output_type": "execute_result"
    },
    {
     "data": {
      "image/png": "[encoded data removed]",
      "text/plain": [
       "<Figure size 1440x576 with 1 Axes>"
      ]
     },
     "metadata": {
      "needs_background": "light"
     },
     "output_type": "display_data"
    }
   ],
   "source": [
    "mutual_info1.sort_values(ascending=False).plot.bar(figsize=(20, 8)) "
   ]
  },
  {
   "cell_type": "code",
   "execution_count": 42,
   "metadata": {},
   "outputs": [
    {
     "data": {
      "text/plain": [
       "Index(['price_seed_rs/kg', 'wage /hrs', 'price_urea', 'price_phosphate',\n",
       "       'varieties', 'phosphate_kg', 'Gross _output_kg', 'pesticide_rs',\n",
       "       'size_hector', 'Total_working_labor_hrs', 'status_land', 'seed_kg',\n",
       "       'urea_kg'],\n",
       "      dtype='object')"
      ]
     },
     "execution_count": 42,
     "metadata": {},
     "output_type": "execute_result"
    }
   ],
   "source": [
    "mutual_info1.sort_values(ascending=False).index"
   ]
  },
  {
   "cell_type": "code",
   "execution_count": 43,
   "metadata": {},
   "outputs": [],
   "source": [
    "x11=data1[list(mutual_info1.sort_values(ascending=False).head(4).index)]\n",
    "#x11=data1[['price_seed_rs/kg','wage /hrs']]"
   ]
  },
  {
   "cell_type": "code",
   "execution_count": 44,
   "metadata": {},
   "outputs": [],
   "source": [
    "from sklearn.model_selection import train_test_split\n",
    "x12_train,x12_test,y12_train,y12_test=train_test_split(x11,y1,test_size=0.2,random_state=3)"
   ]
  },
  {
   "cell_type": "code",
   "execution_count": 45,
   "metadata": {},
   "outputs": [],
   "source": [
    "from sklearn.metrics import r2_score\n",
    "from sklearn.linear_model import LinearRegression\n",
    "from sklearn import linear_model\n",
    "from sklearn.linear_model import Ridge\n",
    "from sklearn.svm import SVR\n",
    "from sklearn.tree import DecisionTreeRegressor\n",
    "from sklearn import neighbors\n",
    "#from xgboost import XGBRegressor\n",
    "from sklearn.ensemble import AdaBoostRegressor \n",
    "from sklearn.ensemble import BaggingRegressor\n",
    "from sklearn import svm"
   ]
  },
  {
   "cell_type": "code",
   "execution_count": 46,
   "metadata": {},
   "outputs": [
    {
     "data": {
      "application/javascript": "\n        if (window._pyforest_update_imports_cell) { window._pyforest_update_imports_cell('import xgboost as xgb\\nimport seaborn as sns\\nimport pickle\\nimport matplotlib.pyplot as plt\\nimport numpy as np\\nimport pandas as pd'); }\n    ",
      "text/plain": [
       "<IPython.core.display.Javascript object>"
      ]
     },
     "metadata": {},
     "output_type": "display_data"
    }
   ],
   "source": [
    "lasso_reg = linear_model.Lasso(alpha=1, max_iter=100, tol=0.1)\n",
    "ridge_reg= Ridge(alpha=1, max_iter=500, tol=0.1)\n",
    "svr_rbf = SVR(kernel= 'linear')\n",
    "dt = DecisionTreeRegressor()\n",
    "model1 = neighbors.KNeighborsRegressor(n_neighbors = 7,metric='minkowski',p=1)\n",
    "xgb_model = xgb.XGBRegressor(base_score=0.5,objective=\"reg:squarederror\", random_state=100)\n",
    "\n"
   ]
  },
  {
   "cell_type": "code",
   "execution_count": 47,
   "metadata": {},
   "outputs": [
    {
     "name": "stdout",
     "output_type": "stream",
     "text": [
      "output DecisionTreeRegressor() is :  0.7771452296026444 0.9940746489465073\n",
      "output Lasso(alpha=1, max_iter=100, tol=0.1) is :  0.7395917738357468 0.7478736899600982\n",
      "output Ridge(alpha=1, max_iter=500, tol=0.1) is :  0.741146727960003 0.7479322552380532\n",
      "output KNeighborsRegressor(n_neighbors=7, p=1) is :  0.8913471281252553 0.8969273452128989\n",
      "output XGBRegressor(base_score=0.5, booster='gbtree', callbacks=None,\n",
      "             colsample_bylevel=1, colsample_bynode=1, colsample_bytree=1,\n",
      "             early_stopping_rounds=None, enable_categorical=False,\n",
      "             eval_metric=None, gamma=0, gpu_id=-1, grow_policy='depthwise',\n",
      "             importance_type=None, interaction_constraints='',\n",
      "             learning_rate=0.300000012, max_bin=256, max_cat_to_onehot=4,\n",
      "             max_delta_step=0, max_depth=6, max_leaves=0, min_child_weight=1,\n",
      "             missing=nan, monotone_constraints='()', n_estimators=100, n_jobs=0,\n",
      "             num_parallel_tree=1, predictor='auto', random_state=100,\n",
      "             reg_alpha=0, reg_lambda=1, ...) is :  0.8744051645727048 0.9875057542514885\n"
     ]
    }
   ],
   "source": [
    "for clf in (dt,lasso_reg,ridge_reg,model1,xgb_model):\n",
    "    clf.fit(x12_train,y12_train)\n",
    "    y_pred=clf.predict(x12_test)\n",
    "    yp_pred=clf.predict(x12_train)\n",
    "    print(f\"output {clf} is : \",r2_score(y12_test,y_pred),r2_score(y12_train,yp_pred))"
   ]
  },
  {
   "cell_type": "code",
   "execution_count": 119,
   "metadata": {},
   "outputs": [
    {
     "data": {
      "application/javascript": "\n        if (window._pyforest_update_imports_cell) { window._pyforest_update_imports_cell('import xgboost as xgb\\nimport pickle'); }\n    ",
      "text/plain": [
       "<IPython.core.display.Javascript object>"
      ]
     },
     "metadata": {},
     "output_type": "display_data"
    }
   ],
   "source": [
    "pickle.dump(model1,open('mobile_price.pkl','wb'))"
   ]
  },
  {
   "attachments": {},
   "cell_type": "markdown",
   "metadata": {},
   "source": [
    "### Harvesting cost"
   ]
  },
  {
   "cell_type": "code",
   "execution_count": 29,
   "metadata": {},
   "outputs": [
    {
     "data": {
      "application/javascript": "\n        if (window._pyforest_update_imports_cell) { window._pyforest_update_imports_cell('import seaborn as sns\\nimport matplotlib.pyplot as plt\\nimport numpy as np\\nimport pickle\\nimport pandas as pd'); }\n    ",
      "text/plain": [
       "<IPython.core.display.Javascript object>"
      ]
     },
     "metadata": {},
     "output_type": "display_data"
    },
    {
     "name": "stderr",
     "output_type": "stream",
     "text": [
      "C:\\Users\\Sai\\anaconda3\\lib\\site-packages\\seaborn\\distributions.py:2551: FutureWarning: `distplot` is a deprecated function and will be removed in a future version. Please adapt your code to use either `displot` (a figure-level function with similar flexibility) or `histplot` (an axes-level function for histograms).\n",
      "  warnings.warn(msg, FutureWarning)\n"
     ]
    },
    {
     "data": {
      "text/plain": [
       "<AxesSubplot:xlabel='Harve_cost_rice', ylabel='Density'>"
      ]
     },
     "execution_count": 29,
     "metadata": {},
     "output_type": "execute_result"
    },
    {
     "data": {
      "image/png": "[encoded data removed]",
      "text/plain": [
       "<Figure size 432x288 with 1 Axes>"
      ]
     },
     "metadata": {
      "needs_background": "light"
     },
     "output_type": "display_data"
    }
   ],
   "source": [
    "sns.distplot(data['Harve_cost_rice'])"
   ]
  },
  {
   "cell_type": "code",
   "execution_count": 61,
   "metadata": {},
   "outputs": [],
   "source": [
    "x2=data.iloc[:,:-1]\n",
    "y2=data.iloc[:,-1]"
   ]
  },
  {
   "cell_type": "code",
   "execution_count": 62,
   "metadata": {},
   "outputs": [],
   "source": [
    "from sklearn.model_selection import train_test_split\n",
    "x21_train,x21_test,y21_train,y21_test=train_test_split(x2,y2,test_size=0.2,random_state=0)"
   ]
  },
  {
   "cell_type": "code",
   "execution_count": 63,
   "metadata": {},
   "outputs": [],
   "source": [
    "from sklearn.feature_selection import mutual_info_regression\n",
    "mutual_info2=mutual_info_regression(x21_train,y21_train)"
   ]
  },
  {
   "cell_type": "code",
   "execution_count": 64,
   "metadata": {},
   "outputs": [
    {
     "data": {
      "application/javascript": "\n        if (window._pyforest_update_imports_cell) { window._pyforest_update_imports_cell('import xgboost as xgb\\nimport seaborn as sns\\nimport pickle\\nimport matplotlib.pyplot as plt\\nimport numpy as np\\nimport pandas as pd'); }\n    ",
      "text/plain": [
       "<IPython.core.display.Javascript object>"
      ]
     },
     "metadata": {},
     "output_type": "display_data"
    },
    {
     "data": {
      "text/plain": [
       "Gross _output_kg           1.821731\n",
       "size_hector                0.765840\n",
       "seed_kg                    0.611240\n",
       "urea_kg                    0.561034\n",
       "Total_working_labor_hrs    0.479157\n",
       "phosphate_kg               0.339806\n",
       "region                     0.237663\n",
       "pesticide_rs               0.152400\n",
       "varieties                  0.111668\n",
       "price/kg                   0.089656\n",
       "price_seed_rs/kg           0.081260\n",
       "wage /hrs                  0.069896\n",
       "price_urea                 0.062653\n",
       "price_phosphate            0.062438\n",
       "status_land                0.000000\n",
       "dtype: float64"
      ]
     },
     "execution_count": 64,
     "metadata": {},
     "output_type": "execute_result"
    }
   ],
   "source": [
    "mutual_info2 = pd.Series(mutual_info2)\n",
    "mutual_info2.index = x21_train.columns\n",
    "mutual_info2.sort_values(ascending=False)"
   ]
  },
  {
   "cell_type": "code",
   "execution_count": 65,
   "metadata": {},
   "outputs": [
    {
     "data": {
      "text/plain": [
       "<AxesSubplot:>"
      ]
     },
     "execution_count": 65,
     "metadata": {},
     "output_type": "execute_result"
    },
    {
     "data": {
      "image/png": "[encoded data removed]",
      "text/plain": [
       "<Figure size 1440x576 with 1 Axes>"
      ]
     },
     "metadata": {
      "needs_background": "light"
     },
     "output_type": "display_data"
    }
   ],
   "source": [
    "mutual_info2.sort_values(ascending=False).plot.bar(figsize=(20, 8)) "
   ]
  },
  {
   "cell_type": "code",
   "execution_count": 72,
   "metadata": {},
   "outputs": [
    {
     "data": {
      "text/html": [
       "<div>\n",
       "<style scoped>\n",
       "    .dataframe tbody tr th:only-of-type {\n",
       "        vertical-align: middle;\n",
       "    }\n",
       "\n",
       "    .dataframe tbody tr th {\n",
       "        vertical-align: top;\n",
       "    }\n",
       "\n",
       "    .dataframe thead th {\n",
       "        text-align: right;\n",
       "    }\n",
       "</style>\n",
       "<table border=\"1\" class=\"dataframe\">\n",
       "  <thead>\n",
       "    <tr style=\"text-align: right;\">\n",
       "      <th></th>\n",
       "      <th>Gross _output_kg</th>\n",
       "    </tr>\n",
       "  </thead>\n",
       "  <tbody>\n",
       "    <tr>\n",
       "      <th>0</th>\n",
       "      <td>7980</td>\n",
       "    </tr>\n",
       "    <tr>\n",
       "      <th>1</th>\n",
       "      <td>4083</td>\n",
       "    </tr>\n",
       "    <tr>\n",
       "      <th>2</th>\n",
       "      <td>2650</td>\n",
       "    </tr>\n",
       "    <tr>\n",
       "      <th>3</th>\n",
       "      <td>4500</td>\n",
       "    </tr>\n",
       "    <tr>\n",
       "      <th>4</th>\n",
       "      <td>16300</td>\n",
       "    </tr>\n",
       "  </tbody>\n",
       "</table>\n",
       "</div>"
      ],
      "text/plain": [
       "   Gross _output_kg\n",
       "0              7980\n",
       "1              4083\n",
       "2              2650\n",
       "3              4500\n",
       "4             16300"
      ]
     },
     "execution_count": 72,
     "metadata": {},
     "output_type": "execute_result"
    }
   ],
   "source": [
    "x22=data1[list(mutual_info2.sort_values(ascending=False).head(1).index)]\n",
    "x22.head()"
   ]
  },
  {
   "cell_type": "code",
   "execution_count": 82,
   "metadata": {},
   "outputs": [],
   "source": [
    "from sklearn.model_selection import train_test_split\n",
    "x22_train,x22_test,y22_train,y22_test=train_test_split(x22,y2,test_size=0.2,random_state=7)"
   ]
  },
  {
   "cell_type": "code",
   "execution_count": 83,
   "metadata": {},
   "outputs": [],
   "source": [
    "from sklearn.metrics import r2_score\n",
    "from sklearn.linear_model import LinearRegression\n",
    "from sklearn import linear_model\n",
    "from sklearn.linear_model import Ridge\n",
    "from sklearn.svm import SVR\n",
    "from sklearn.tree import DecisionTreeRegressor\n",
    "from sklearn import neighbors\n",
    "from xgboost import XGBRegressor\n",
    "from sklearn.ensemble import AdaBoostRegressor \n",
    "from sklearn.ensemble import BaggingRegressor "
   ]
  },
  {
   "cell_type": "code",
   "execution_count": 84,
   "metadata": {},
   "outputs": [
    {
     "data": {
      "application/javascript": "\n        if (window._pyforest_update_imports_cell) { window._pyforest_update_imports_cell('import xgboost as xgb\\nimport seaborn as sns\\nimport pickle\\nimport matplotlib.pyplot as plt\\nimport numpy as np\\nimport pandas as pd'); }\n    ",
      "text/plain": [
       "<IPython.core.display.Javascript object>"
      ]
     },
     "metadata": {},
     "output_type": "display_data"
    }
   ],
   "source": [
    "reg2 = LinearRegression()\n",
    "lasso_reg = linear_model.Lasso(alpha=1, max_iter=100, tol=0.1)\n",
    "ridge_reg= Ridge(alpha=1, max_iter=500, tol=0.1)\n",
    "svr_rbf = SVR(kernel= 'linear')\n",
    "dt = DecisionTreeRegressor()\n",
    "model2 = neighbors.KNeighborsRegressor(n_neighbors = 7,metric='minkowski',p=1)\n",
    "xgb_model = xgb.XGBRegressor(base_score=0.5,objective=\"reg:squarederror\", random_state=100)"
   ]
  },
  {
   "cell_type": "code",
   "execution_count": 85,
   "metadata": {},
   "outputs": [
    {
     "name": "stdout",
     "output_type": "stream",
     "text": [
      "output LinearRegression() is :  0.9503441161066914 0.9106977418630775\n",
      "output DecisionTreeRegressor() is :  0.9342727235166947 0.98373403676972\n",
      "output Lasso(alpha=1, max_iter=100, tol=0.1) is :  0.9503438660805971 0.9106977418575751\n",
      "output Ridge(alpha=1, max_iter=500, tol=0.1) is :  0.9503441160625424 0.9106977418630775\n",
      "output KNeighborsRegressor(n_neighbors=7, p=1) is :  0.8692213600622207 0.8948865335886383\n",
      "output XGBRegressor(base_score=0.5, booster='gbtree', callbacks=None,\n",
      "             colsample_bylevel=1, colsample_bynode=1, colsample_bytree=1,\n",
      "             early_stopping_rounds=None, enable_categorical=False,\n",
      "             eval_metric=None, gamma=0, gpu_id=-1, grow_policy='depthwise',\n",
      "             importance_type=None, interaction_constraints='',\n",
      "             learning_rate=0.300000012, max_bin=256, max_cat_to_onehot=4,\n",
      "             max_delta_step=0, max_depth=6, max_leaves=0, min_child_weight=1,\n",
      "             missing=nan, monotone_constraints='()', n_estimators=100, n_jobs=0,\n",
      "             num_parallel_tree=1, predictor='auto', random_state=100,\n",
      "             reg_alpha=0, reg_lambda=1, ...) is :  0.9374875600397993 0.9825787935476529\n"
     ]
    }
   ],
   "source": [
    "for clf in (reg2,dt,lasso_reg,ridge_reg,model2,xgb_model):\n",
    "    clf.fit(x22_train,y22_train)\n",
    "    y_pred=clf.predict(x22_test)\n",
    "    yp_pred=clf.predict(x22_train)\n",
    "    print(f\"output {clf} is : \",r2_score(y22_test,y_pred),r2_score(y22_train,yp_pred))"
   ]
  },
  {
   "cell_type": "code",
   "execution_count": 86,
   "metadata": {},
   "outputs": [
    {
     "data": {
      "application/javascript": "\n        if (window._pyforest_update_imports_cell) { window._pyforest_update_imports_cell('import xgboost as xgb\\nimport seaborn as sns\\nimport pickle\\nimport matplotlib.pyplot as plt\\nimport numpy as np\\nimport pandas as pd'); }\n    ",
      "text/plain": [
       "<IPython.core.display.Javascript object>"
      ]
     },
     "metadata": {},
     "output_type": "display_data"
    }
   ],
   "source": [
    "pickle.dump(reg2,open('harvesting_cost.pkl','wb'))"
   ]
  },
  {
   "cell_type": "code",
   "execution_count": null,
   "metadata": {},
   "outputs": [],
   "source": []
  },
  {
   "cell_type": "code",
   "execution_count": null,
   "metadata": {},
   "outputs": [],
   "source": []
  }
 ],
 "metadata": {
  "kernelspec": {
   "display_name": "Python 3",
   "language": "python",
   "name": "python3"
  },
  "language_info": {
   "codemirror_mode": {
    "name": "ipython",
    "version": 3
   },
   "file_extension": ".py",
   "mimetype": "text/x-python",
   "name": "python",
   "nbconvert_exporter": "python",
   "pygments_lexer": "ipython3",
   "version": "3.8.5"
  }
 },
 "nbformat": 4,
 "nbformat_minor": 4
}
